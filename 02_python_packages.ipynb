{
 "cells": [
  {
   "cell_type": "markdown",
   "metadata": {
    "colab_type": "text",
    "id": "Vtsjf4CQnbOP"
   },
   "source": [
    "# Lecture 2. Python packages"
   ]
  },
  {
   "cell_type": "markdown",
   "metadata": {
    "colab_type": "text",
    "id": "1ny85BTNtaw1"
   },
   "source": [
    "## Practice"
   ]
  },
  {
   "cell_type": "code",
   "execution_count": 3,
   "metadata": {
    "colab": {},
    "colab_type": "code",
    "executionInfo": {
     "elapsed": 1383,
     "status": "ok",
     "timestamp": 1600506494086,
     "user": {
      "displayName": "Constantine Korikov",
      "photoUrl": "https://lh3.googleusercontent.com/a-/AOh14Ggfg-lsEaQlvBCImLsCsw-2Ptq9j0mESnmuQSbcpg=s64",
      "userId": "05258927714933707319"
     },
     "user_tz": -180
    },
    "id": "-jEd00IEmhsv"
   },
   "outputs": [],
   "source": [
    "import random\n",
    "data = [random.randint(0,10) for i in range(10)]"
   ]
  },
  {
   "cell_type": "code",
   "execution_count": 4,
   "metadata": {
    "colab": {
     "base_uri": "https://localhost:8080/",
     "height": 34
    },
    "colab_type": "code",
    "executionInfo": {
     "elapsed": 1376,
     "status": "ok",
     "timestamp": 1600506496458,
     "user": {
      "displayName": "Constantine Korikov",
      "photoUrl": "https://lh3.googleusercontent.com/a-/AOh14Ggfg-lsEaQlvBCImLsCsw-2Ptq9j0mESnmuQSbcpg=s64",
      "userId": "05258927714933707319"
     },
     "user_tz": -180
    },
    "id": "mFt3GCcXnqoj",
    "outputId": "fb847699-396e-46e3-a1d6-be1f5ee0307c"
   },
   "outputs": [
    {
     "data": {
      "text/plain": [
       "[2, 8, 1, 8, 8, 4, 5, 1, 8, 7]"
      ]
     },
     "execution_count": 4,
     "metadata": {
      "tags": []
     },
     "output_type": "execute_result"
    }
   ],
   "source": [
    "data"
   ]
  },
  {
   "cell_type": "code",
   "execution_count": 13,
   "metadata": {
    "colab": {
     "base_uri": "https://localhost:8080/",
     "height": 34
    },
    "colab_type": "code",
    "executionInfo": {
     "elapsed": 949,
     "status": "ok",
     "timestamp": 1600507284261,
     "user": {
      "displayName": "Constantine Korikov",
      "photoUrl": "https://lh3.googleusercontent.com/a-/AOh14Ggfg-lsEaQlvBCImLsCsw-2Ptq9j0mESnmuQSbcpg=s64",
      "userId": "05258927714933707319"
     },
     "user_tz": -180
    },
    "id": "lgJAnKd7nuDg",
    "outputId": "b496b9a1-e9b6-47b5-8273-b9f4e514e9ab"
   },
   "outputs": [
    {
     "data": {
      "text/plain": [
       "1"
      ]
     },
     "execution_count": 13,
     "metadata": {
      "tags": []
     },
     "output_type": "execute_result"
    }
   ],
   "source": [
    "def linear_search(x):\n",
    "  for index, value in enumerate(data):\n",
    "    if value == x:\n",
    "      return index\n",
    "  return -1\n",
    "\n",
    "linear_search(8) # -> 1"
   ]
  },
  {
   "cell_type": "markdown",
   "metadata": {
    "colab_type": "text",
    "id": "w-8Affthtfct"
   },
   "source": [
    "## Numpy"
   ]
  },
  {
   "cell_type": "code",
   "execution_count": 15,
   "metadata": {
    "colab": {},
    "colab_type": "code",
    "executionInfo": {
     "elapsed": 973,
     "status": "ok",
     "timestamp": 1600508131872,
     "user": {
      "displayName": "Constantine Korikov",
      "photoUrl": "https://lh3.googleusercontent.com/a-/AOh14Ggfg-lsEaQlvBCImLsCsw-2Ptq9j0mESnmuQSbcpg=s64",
      "userId": "05258927714933707319"
     },
     "user_tz": -180
    },
    "id": "G1MmxhCrpaej"
   },
   "outputs": [],
   "source": [
    "import numpy as np"
   ]
  },
  {
   "cell_type": "code",
   "execution_count": 16,
   "metadata": {
    "colab": {},
    "colab_type": "code",
    "executionInfo": {
     "elapsed": 1093,
     "status": "ok",
     "timestamp": 1600508349342,
     "user": {
      "displayName": "Constantine Korikov",
      "photoUrl": "https://lh3.googleusercontent.com/a-/AOh14Ggfg-lsEaQlvBCImLsCsw-2Ptq9j0mESnmuQSbcpg=s64",
      "userId": "05258927714933707319"
     },
     "user_tz": -180
    },
    "id": "VvoypnXXteVV"
   },
   "outputs": [],
   "source": [
    "# ndarray\n",
    "x = np.array([1,2,3], np.int32)"
   ]
  },
  {
   "cell_type": "code",
   "execution_count": 18,
   "metadata": {
    "colab": {},
    "colab_type": "code",
    "executionInfo": {
     "elapsed": 1113,
     "status": "ok",
     "timestamp": 1600508389426,
     "user": {
      "displayName": "Constantine Korikov",
      "photoUrl": "https://lh3.googleusercontent.com/a-/AOh14Ggfg-lsEaQlvBCImLsCsw-2Ptq9j0mESnmuQSbcpg=s64",
      "userId": "05258927714933707319"
     },
     "user_tz": -180
    },
    "id": "W8o_9O_Mu0bk"
   },
   "outputs": [],
   "source": [
    "x = np.append(x, np.int32(4))"
   ]
  },
  {
   "cell_type": "code",
   "execution_count": 27,
   "metadata": {
    "colab": {
     "base_uri": "https://localhost:8080/",
     "height": 102
    },
    "colab_type": "code",
    "executionInfo": {
     "elapsed": 1108,
     "status": "ok",
     "timestamp": 1600508524773,
     "user": {
      "displayName": "Constantine Korikov",
      "photoUrl": "https://lh3.googleusercontent.com/a-/AOh14Ggfg-lsEaQlvBCImLsCsw-2Ptq9j0mESnmuQSbcpg=s64",
      "userId": "05258927714933707319"
     },
     "user_tz": -180
    },
    "id": "gXTxt8UKu1fm",
    "outputId": "8eca5a15-df0c-493b-ba77-78e74537d2d2"
   },
   "outputs": [
    {
     "name": "stdout",
     "output_type": "stream",
     "text": [
      "<class 'numpy.ndarray'>\n",
      "(4,)\n",
      "int32\n",
      "2\n",
      "[1 2]\n"
     ]
    }
   ],
   "source": [
    "print(type(x))\n",
    "print(x.shape)\n",
    "print(x.dtype)\n",
    "print(x[1])\n",
    "print(x[:2])"
   ]
  },
  {
   "cell_type": "code",
   "execution_count": 33,
   "metadata": {
    "colab": {
     "base_uri": "https://localhost:8080/",
     "height": 34
    },
    "colab_type": "code",
    "executionInfo": {
     "elapsed": 2433,
     "status": "ok",
     "timestamp": 1600508677517,
     "user": {
      "displayName": "Constantine Korikov",
      "photoUrl": "https://lh3.googleusercontent.com/a-/AOh14Ggfg-lsEaQlvBCImLsCsw-2Ptq9j0mESnmuQSbcpg=s64",
      "userId": "05258927714933707319"
     },
     "user_tz": -180
    },
    "id": "eMTDilVTu-_A",
    "outputId": "2ef52fd5-e7bf-4187-97d1-8aed3d75026d"
   },
   "outputs": [
    {
     "name": "stdout",
     "output_type": "stream",
     "text": [
      "100 loops, best of 3: 2.98 ms per loop\n"
     ]
    }
   ],
   "source": [
    "%timeit a=[i**2 for i in list(range(10000))]"
   ]
  },
  {
   "cell_type": "code",
   "execution_count": 35,
   "metadata": {
    "colab": {
     "base_uri": "https://localhost:8080/",
     "height": 51
    },
    "colab_type": "code",
    "executionInfo": {
     "elapsed": 2063,
     "status": "ok",
     "timestamp": 1600508737967,
     "user": {
      "displayName": "Constantine Korikov",
      "photoUrl": "https://lh3.googleusercontent.com/a-/AOh14Ggfg-lsEaQlvBCImLsCsw-2Ptq9j0mESnmuQSbcpg=s64",
      "userId": "05258927714933707319"
     },
     "user_tz": -180
    },
    "id": "hIAXjqwZvVN6",
    "outputId": "f851739f-82f9-42e2-a60b-ad027990871a"
   },
   "outputs": [
    {
     "name": "stdout",
     "output_type": "stream",
     "text": [
      "The slowest run took 42.95 times longer than the fastest. This could mean that an intermediate result is being cached.\n",
      "10000 loops, best of 3: 19.9 µs per loop\n"
     ]
    }
   ],
   "source": [
    "%timeit b=np.arange(10000)**2"
   ]
  },
  {
   "cell_type": "code",
   "execution_count": 39,
   "metadata": {
    "colab": {
     "base_uri": "https://localhost:8080/",
     "height": 34
    },
    "colab_type": "code",
    "executionInfo": {
     "elapsed": 962,
     "status": "ok",
     "timestamp": 1600508821442,
     "user": {
      "displayName": "Constantine Korikov",
      "photoUrl": "https://lh3.googleusercontent.com/a-/AOh14Ggfg-lsEaQlvBCImLsCsw-2Ptq9j0mESnmuQSbcpg=s64",
      "userId": "05258927714933707319"
     },
     "user_tz": -180
    },
    "id": "A9GYRNdDwQIp",
    "outputId": "076d85f7-f029-4328-a4de-cdb8e764dce7"
   },
   "outputs": [
    {
     "data": {
      "text/plain": [
       "(3, 2)"
      ]
     },
     "execution_count": 39,
     "metadata": {
      "tags": []
     },
     "output_type": "execute_result"
    }
   ],
   "source": [
    "x = np.array([[1,2],[3,4], [5,6]])\n",
    "x.shape"
   ]
  },
  {
   "cell_type": "code",
   "execution_count": 43,
   "metadata": {
    "colab": {
     "base_uri": "https://localhost:8080/",
     "height": 34
    },
    "colab_type": "code",
    "executionInfo": {
     "elapsed": 816,
     "status": "ok",
     "timestamp": 1600508916694,
     "user": {
      "displayName": "Constantine Korikov",
      "photoUrl": "https://lh3.googleusercontent.com/a-/AOh14Ggfg-lsEaQlvBCImLsCsw-2Ptq9j0mESnmuQSbcpg=s64",
      "userId": "05258927714933707319"
     },
     "user_tz": -180
    },
    "id": "mzQ9u0Gwwhgs",
    "outputId": "22a017e2-e6ea-4272-c22d-91b827966dec"
   },
   "outputs": [
    {
     "data": {
      "text/plain": [
       "(2, 3)"
      ]
     },
     "execution_count": 43,
     "metadata": {
      "tags": []
     },
     "output_type": "execute_result"
    }
   ],
   "source": [
    "x.reshape(2,3).shape"
   ]
  },
  {
   "cell_type": "code",
   "execution_count": 46,
   "metadata": {
    "colab": {
     "base_uri": "https://localhost:8080/",
     "height": 68
    },
    "colab_type": "code",
    "executionInfo": {
     "elapsed": 816,
     "status": "ok",
     "timestamp": 1600509012456,
     "user": {
      "displayName": "Constantine Korikov",
      "photoUrl": "https://lh3.googleusercontent.com/a-/AOh14Ggfg-lsEaQlvBCImLsCsw-2Ptq9j0mESnmuQSbcpg=s64",
      "userId": "05258927714933707319"
     },
     "user_tz": -180
    },
    "id": "tlfInKNlw5kC",
    "outputId": "96b15c7f-476c-4e71-8f85-7a12dbfa1aff"
   },
   "outputs": [
    {
     "name": "stdout",
     "output_type": "stream",
     "text": [
      "4.826233624851015\n",
      "0.48262336248510146\n",
      "0.8716286234759464\n"
     ]
    }
   ],
   "source": [
    "a = np.random.rand(10)\n",
    "print(a.sum())\n",
    "print(a.mean())\n",
    "print(a.max())"
   ]
  },
  {
   "cell_type": "code",
   "execution_count": 48,
   "metadata": {
    "colab": {
     "base_uri": "https://localhost:8080/",
     "height": 85
    },
    "colab_type": "code",
    "executionInfo": {
     "elapsed": 1059,
     "status": "ok",
     "timestamp": 1600509041625,
     "user": {
      "displayName": "Constantine Korikov",
      "photoUrl": "https://lh3.googleusercontent.com/a-/AOh14Ggfg-lsEaQlvBCImLsCsw-2Ptq9j0mESnmuQSbcpg=s64",
      "userId": "05258927714933707319"
     },
     "user_tz": -180
    },
    "id": "EXb-XvPFxMI9",
    "outputId": "6bf14f44-aa5c-4a94-bd91-82da5573e5b9"
   },
   "outputs": [
    {
     "name": "stdout",
     "output_type": "stream",
     "text": [
      "[0.63694413 0.94302181 0.89342007 0.314476   0.59364669 0.52312746\n",
      " 1.57971313 1.65320985 1.89843444 0.91184359]\n",
      "[0.0052008  0.02133426 0.04320601 0.02352025 0.08790294 0.06814393\n",
      " 0.60549184 0.66920723 0.90010557 0.01013045]\n"
     ]
    }
   ],
   "source": [
    "a = np.random.rand(10)\n",
    "b = np.random.rand(10)\n",
    "\n",
    "print(a + b)\n",
    "print(a * b)"
   ]
  },
  {
   "cell_type": "code",
   "execution_count": 72,
   "metadata": {
    "colab": {},
    "colab_type": "code",
    "executionInfo": {
     "elapsed": 1473,
     "status": "ok",
     "timestamp": 1600509417983,
     "user": {
      "displayName": "Constantine Korikov",
      "photoUrl": "https://lh3.googleusercontent.com/a-/AOh14Ggfg-lsEaQlvBCImLsCsw-2Ptq9j0mESnmuQSbcpg=s64",
      "userId": "05258927714933707319"
     },
     "user_tz": -180
    },
    "id": "td2eAi0ixZw3"
   },
   "outputs": [],
   "source": [
    "f = 0.75\n",
    "t  = np.arange(0, 10, 0.125)\n",
    "signal = np.sin(2*np.pi*f*t)"
   ]
  },
  {
   "cell_type": "code",
   "execution_count": 73,
   "metadata": {
    "colab": {},
    "colab_type": "code",
    "executionInfo": {
     "elapsed": 581,
     "status": "ok",
     "timestamp": 1600509418437,
     "user": {
      "displayName": "Constantine Korikov",
      "photoUrl": "https://lh3.googleusercontent.com/a-/AOh14Ggfg-lsEaQlvBCImLsCsw-2Ptq9j0mESnmuQSbcpg=s64",
      "userId": "05258927714933707319"
     },
     "user_tz": -180
    },
    "id": "x4K7HmfQyHiW"
   },
   "outputs": [],
   "source": [
    "spectrum = np.fft.fft(signal)\n",
    "frequencies = np.fft.fftfreq(t.shape[-1])"
   ]
  },
  {
   "cell_type": "code",
   "execution_count": 53,
   "metadata": {
    "colab": {},
    "colab_type": "code",
    "executionInfo": {
     "elapsed": 1168,
     "status": "ok",
     "timestamp": 1600509174069,
     "user": {
      "displayName": "Constantine Korikov",
      "photoUrl": "https://lh3.googleusercontent.com/a-/AOh14Ggfg-lsEaQlvBCImLsCsw-2Ptq9j0mESnmuQSbcpg=s64",
      "userId": "05258927714933707319"
     },
     "user_tz": -180
    },
    "id": "0DJN0t-Kxo3_"
   },
   "outputs": [],
   "source": [
    "import matplotlib.pyplot as plt"
   ]
  },
  {
   "cell_type": "code",
   "execution_count": 74,
   "metadata": {
    "colab": {
     "base_uri": "https://localhost:8080/",
     "height": 282
    },
    "colab_type": "code",
    "executionInfo": {
     "elapsed": 2038,
     "status": "ok",
     "timestamp": 1600509421540,
     "user": {
      "displayName": "Constantine Korikov",
      "photoUrl": "https://lh3.googleusercontent.com/a-/AOh14Ggfg-lsEaQlvBCImLsCsw-2Ptq9j0mESnmuQSbcpg=s64",
      "userId": "05258927714933707319"
     },
     "user_tz": -180
    },
    "id": "tiNyjUwPx9wz",
    "outputId": "a1e2ccd7-d24f-4af3-f984-0616065d317f"
   },
   "outputs": [
    {
     "data": {
      "text/plain": [
       "[<matplotlib.lines.Line2D at 0x7f0b089feda0>]"
      ]
     },
     "execution_count": 74,
     "metadata": {
      "tags": []
     },
     "output_type": "execute_result"
    },
    {
     "data": {
      "image/png": "[encoded data removed]",
      "text/plain": [
       "<Figure size 432x288 with 1 Axes>"
      ]
     },
     "metadata": {
      "needs_background": "light",
      "tags": []
     },
     "output_type": "display_data"
    }
   ],
   "source": [
    "plt.plot(t, signal)"
   ]
  },
  {
   "cell_type": "code",
   "execution_count": 75,
   "metadata": {
    "colab": {
     "base_uri": "https://localhost:8080/",
     "height": 282
    },
    "colab_type": "code",
    "executionInfo": {
     "elapsed": 1554,
     "status": "ok",
     "timestamp": 1600509423139,
     "user": {
      "displayName": "Constantine Korikov",
      "photoUrl": "https://lh3.googleusercontent.com/a-/AOh14Ggfg-lsEaQlvBCImLsCsw-2Ptq9j0mESnmuQSbcpg=s64",
      "userId": "05258927714933707319"
     },
     "user_tz": -180
    },
    "id": "wpXyd7SzyCcF",
    "outputId": "df1ad789-3a52-4e75-b41a-78d060dbc8fe"
   },
   "outputs": [
    {
     "data": {
      "text/plain": [
       "[<matplotlib.lines.Line2D at 0x7f0b0898c208>]"
      ]
     },
     "execution_count": 75,
     "metadata": {
      "tags": []
     },
     "output_type": "execute_result"
    },
    {
     "data": {
      "image/png": "[encoded data removed]",
      "text/plain": [
       "<Figure size 432x288 with 1 Axes>"
      ]
     },
     "metadata": {
      "needs_background": "light",
      "tags": []
     },
     "output_type": "display_data"
    }
   ],
   "source": [
    "plt.plot(frequencies, np.abs(spectrum))"
   ]
  },
  {
   "cell_type": "markdown",
   "metadata": {
    "colab_type": "text",
    "id": "ZL6OGmgkzDjj"
   },
   "source": [
    "## Pandas"
   ]
  },
  {
   "cell_type": "code",
   "execution_count": 76,
   "metadata": {
    "colab": {},
    "colab_type": "code",
    "executionInfo": {
     "elapsed": 936,
     "status": "ok",
     "timestamp": 1600509538534,
     "user": {
      "displayName": "Constantine Korikov",
      "photoUrl": "https://lh3.googleusercontent.com/a-/AOh14Ggfg-lsEaQlvBCImLsCsw-2Ptq9j0mESnmuQSbcpg=s64",
      "userId": "05258927714933707319"
     },
     "user_tz": -180
    },
    "id": "-PgirQS8yfx5"
   },
   "outputs": [],
   "source": [
    "import pandas as pd"
   ]
  },
  {
   "cell_type": "code",
   "execution_count": 78,
   "metadata": {
    "colab": {
     "base_uri": "https://localhost:8080/",
     "height": 119
    },
    "colab_type": "code",
    "executionInfo": {
     "elapsed": 1076,
     "status": "ok",
     "timestamp": 1600509589496,
     "user": {
      "displayName": "Constantine Korikov",
      "photoUrl": "https://lh3.googleusercontent.com/a-/AOh14Ggfg-lsEaQlvBCImLsCsw-2Ptq9j0mESnmuQSbcpg=s64",
      "userId": "05258927714933707319"
     },
     "user_tz": -180
    },
    "id": "bQ7hvQmzzWwN",
    "outputId": "c594a711-79b7-4377-8307-efc958620554"
   },
   "outputs": [
    {
     "data": {
      "text/plain": [
       "0    1.0\n",
       "1    2.0\n",
       "2    3.0\n",
       "3    NaN\n",
       "4    4.0\n",
       "dtype: float64"
      ]
     },
     "execution_count": 78,
     "metadata": {
      "tags": []
     },
     "output_type": "execute_result"
    }
   ],
   "source": [
    "pd.Series([1,2,3,np.nan, 4])"
   ]
  },
  {
   "cell_type": "code",
   "execution_count": 79,
   "metadata": {
    "colab": {
     "base_uri": "https://localhost:8080/",
     "height": 204
    },
    "colab_type": "code",
    "executionInfo": {
     "elapsed": 1121,
     "status": "ok",
     "timestamp": 1600509683126,
     "user": {
      "displayName": "Constantine Korikov",
      "photoUrl": "https://lh3.googleusercontent.com/a-/AOh14Ggfg-lsEaQlvBCImLsCsw-2Ptq9j0mESnmuQSbcpg=s64",
      "userId": "05258927714933707319"
     },
     "user_tz": -180
    },
    "id": "AqYDaiSazaL_",
    "outputId": "a9c3446b-3059-4e63-9fdb-169dcbc15ee5"
   },
   "outputs": [
    {
     "data": {
      "text/html": [
       "<div>\n",
       "<style scoped>\n",
       "    .dataframe tbody tr th:only-of-type {\n",
       "        vertical-align: middle;\n",
       "    }\n",
       "\n",
       "    .dataframe tbody tr th {\n",
       "        vertical-align: top;\n",
       "    }\n",
       "\n",
       "    .dataframe thead th {\n",
       "        text-align: right;\n",
       "    }\n",
       "</style>\n",
       "<table border=\"1\" class=\"dataframe\">\n",
       "  <thead>\n",
       "    <tr style=\"text-align: right;\">\n",
       "      <th></th>\n",
       "      <th>one</th>\n",
       "      <th>two</th>\n",
       "    </tr>\n",
       "  </thead>\n",
       "  <tbody>\n",
       "    <tr>\n",
       "      <th>0</th>\n",
       "      <td>1.0</td>\n",
       "      <td>5</td>\n",
       "    </tr>\n",
       "    <tr>\n",
       "      <th>1</th>\n",
       "      <td>2.0</td>\n",
       "      <td>6</td>\n",
       "    </tr>\n",
       "    <tr>\n",
       "      <th>2</th>\n",
       "      <td>3.0</td>\n",
       "      <td>7</td>\n",
       "    </tr>\n",
       "    <tr>\n",
       "      <th>3</th>\n",
       "      <td>NaN</td>\n",
       "      <td>8</td>\n",
       "    </tr>\n",
       "    <tr>\n",
       "      <th>4</th>\n",
       "      <td>4.0</td>\n",
       "      <td>9</td>\n",
       "    </tr>\n",
       "  </tbody>\n",
       "</table>\n",
       "</div>"
      ],
      "text/plain": [
       "   one  two\n",
       "0  1.0    5\n",
       "1  2.0    6\n",
       "2  3.0    7\n",
       "3  NaN    8\n",
       "4  4.0    9"
      ]
     },
     "execution_count": 79,
     "metadata": {
      "tags": []
     },
     "output_type": "execute_result"
    }
   ],
   "source": [
    "pd.DataFrame({\n",
    "    \"one\": pd.Series([1,2,3,np.nan, 4]),\n",
    "    \"two\": pd.Series([5,6,7,8,9])\n",
    "})"
   ]
  },
  {
   "cell_type": "code",
   "execution_count": 80,
   "metadata": {
    "colab": {},
    "colab_type": "code",
    "executionInfo": {
     "elapsed": 3699,
     "status": "ok",
     "timestamp": 1600509811900,
     "user": {
      "displayName": "Constantine Korikov",
      "photoUrl": "https://lh3.googleusercontent.com/a-/AOh14Ggfg-lsEaQlvBCImLsCsw-2Ptq9j0mESnmuQSbcpg=s64",
      "userId": "05258927714933707319"
     },
     "user_tz": -180
    },
    "id": "aGRyVVZFz6Dn"
   },
   "outputs": [],
   "source": [
    "dataset = pd.read_csv(\"https://www.stats.govt.nz/assets/Uploads/Annual-enterprise-survey/Annual-enterprise-survey-2019-financial-year-provisional/Download-data/annual-enterprise-survey-2019-financial-year-provisional-size-bands-csv.csv\")"
   ]
  },
  {
   "cell_type": "code",
   "execution_count": 82,
   "metadata": {
    "colab": {
     "base_uri": "https://localhost:8080/",
     "height": 204
    },
    "colab_type": "code",
    "executionInfo": {
     "elapsed": 969,
     "status": "ok",
     "timestamp": 1600509861021,
     "user": {
      "displayName": "Constantine Korikov",
      "photoUrl": "https://lh3.googleusercontent.com/a-/AOh14Ggfg-lsEaQlvBCImLsCsw-2Ptq9j0mESnmuQSbcpg=s64",
      "userId": "05258927714933707319"
     },
     "user_tz": -180
    },
    "id": "ZzIXv18z0Y2t",
    "outputId": "e1a7056f-dbb8-4ffa-cd72-1851ece0df1b"
   },
   "outputs": [
    {
     "data": {
      "text/html": [
       "<div>\n",
       "<style scoped>\n",
       "    .dataframe tbody tr th:only-of-type {\n",
       "        vertical-align: middle;\n",
       "    }\n",
       "\n",
       "    .dataframe tbody tr th {\n",
       "        vertical-align: top;\n",
       "    }\n",
       "\n",
       "    .dataframe thead th {\n",
       "        text-align: right;\n",
       "    }\n",
       "</style>\n",
       "<table border=\"1\" class=\"dataframe\">\n",
       "  <thead>\n",
       "    <tr style=\"text-align: right;\">\n",
       "      <th></th>\n",
       "      <th>year</th>\n",
       "      <th>industry_code_ANZSIC</th>\n",
       "      <th>industry_name_ANZSIC</th>\n",
       "      <th>rme_size_grp</th>\n",
       "      <th>variable</th>\n",
       "      <th>value</th>\n",
       "      <th>unit</th>\n",
       "    </tr>\n",
       "  </thead>\n",
       "  <tbody>\n",
       "    <tr>\n",
       "      <th>0</th>\n",
       "      <td>2011</td>\n",
       "      <td>A</td>\n",
       "      <td>Agriculture, Forestry and Fishing</td>\n",
       "      <td>a_0</td>\n",
       "      <td>Activity unit</td>\n",
       "      <td>46134</td>\n",
       "      <td>COUNT</td>\n",
       "    </tr>\n",
       "    <tr>\n",
       "      <th>1</th>\n",
       "      <td>2011</td>\n",
       "      <td>A</td>\n",
       "      <td>Agriculture, Forestry and Fishing</td>\n",
       "      <td>a_0</td>\n",
       "      <td>Rolling mean employees</td>\n",
       "      <td>0</td>\n",
       "      <td>COUNT</td>\n",
       "    </tr>\n",
       "    <tr>\n",
       "      <th>2</th>\n",
       "      <td>2011</td>\n",
       "      <td>A</td>\n",
       "      <td>Agriculture, Forestry and Fishing</td>\n",
       "      <td>a_0</td>\n",
       "      <td>Salaries and wages paid</td>\n",
       "      <td>279</td>\n",
       "      <td>DOLLARS(millions)</td>\n",
       "    </tr>\n",
       "    <tr>\n",
       "      <th>3</th>\n",
       "      <td>2011</td>\n",
       "      <td>A</td>\n",
       "      <td>Agriculture, Forestry and Fishing</td>\n",
       "      <td>a_0</td>\n",
       "      <td>Sales, government funding, grants and subsidies</td>\n",
       "      <td>8187</td>\n",
       "      <td>DOLLARS(millions)</td>\n",
       "    </tr>\n",
       "    <tr>\n",
       "      <th>4</th>\n",
       "      <td>2011</td>\n",
       "      <td>A</td>\n",
       "      <td>Agriculture, Forestry and Fishing</td>\n",
       "      <td>a_0</td>\n",
       "      <td>Total income</td>\n",
       "      <td>8866</td>\n",
       "      <td>DOLLARS(millions)</td>\n",
       "    </tr>\n",
       "  </tbody>\n",
       "</table>\n",
       "</div>"
      ],
      "text/plain": [
       "   year industry_code_ANZSIC  ...  value               unit\n",
       "0  2011                    A  ...  46134              COUNT\n",
       "1  2011                    A  ...      0              COUNT\n",
       "2  2011                    A  ...    279  DOLLARS(millions)\n",
       "3  2011                    A  ...   8187  DOLLARS(millions)\n",
       "4  2011                    A  ...   8866  DOLLARS(millions)\n",
       "\n",
       "[5 rows x 7 columns]"
      ]
     },
     "execution_count": 82,
     "metadata": {
      "tags": []
     },
     "output_type": "execute_result"
    }
   ],
   "source": [
    "dataset.head()"
   ]
  },
  {
   "cell_type": "code",
   "execution_count": 91,
   "metadata": {
    "colab": {},
    "colab_type": "code",
    "executionInfo": {
     "elapsed": 1234,
     "status": "ok",
     "timestamp": 1600510122200,
     "user": {
      "displayName": "Constantine Korikov",
      "photoUrl": "https://lh3.googleusercontent.com/a-/AOh14Ggfg-lsEaQlvBCImLsCsw-2Ptq9j0mESnmuQSbcpg=s64",
      "userId": "05258927714933707319"
     },
     "user_tz": -180
    },
    "id": "UemSQGBd03ZY"
   },
   "outputs": [],
   "source": [
    "dataset[\"year_norm\"] =  dataset[\"year\"] - 2000"
   ]
  },
  {
   "cell_type": "code",
   "execution_count": 92,
   "metadata": {
    "colab": {
     "base_uri": "https://localhost:8080/",
     "height": 204
    },
    "colab_type": "code",
    "executionInfo": {
     "elapsed": 1020,
     "status": "ok",
     "timestamp": 1600510123772,
     "user": {
      "displayName": "Constantine Korikov",
      "photoUrl": "https://lh3.googleusercontent.com/a-/AOh14Ggfg-lsEaQlvBCImLsCsw-2Ptq9j0mESnmuQSbcpg=s64",
      "userId": "05258927714933707319"
     },
     "user_tz": -180
    },
    "id": "xT8yPlN40xUX",
    "outputId": "16c36b9d-abe1-447c-be1d-2b48b2f3465c"
   },
   "outputs": [
    {
     "data": {
      "text/html": [
       "<div>\n",
       "<style scoped>\n",
       "    .dataframe tbody tr th:only-of-type {\n",
       "        vertical-align: middle;\n",
       "    }\n",
       "\n",
       "    .dataframe tbody tr th {\n",
       "        vertical-align: top;\n",
       "    }\n",
       "\n",
       "    .dataframe thead th {\n",
       "        text-align: right;\n",
       "    }\n",
       "</style>\n",
       "<table border=\"1\" class=\"dataframe\">\n",
       "  <thead>\n",
       "    <tr style=\"text-align: right;\">\n",
       "      <th></th>\n",
       "      <th>year</th>\n",
       "      <th>industry_code_ANZSIC</th>\n",
       "      <th>industry_name_ANZSIC</th>\n",
       "      <th>rme_size_grp</th>\n",
       "      <th>variable</th>\n",
       "      <th>value</th>\n",
       "      <th>unit</th>\n",
       "      <th>year_norm</th>\n",
       "    </tr>\n",
       "  </thead>\n",
       "  <tbody>\n",
       "    <tr>\n",
       "      <th>0</th>\n",
       "      <td>2011</td>\n",
       "      <td>A</td>\n",
       "      <td>Agriculture, Forestry and Fishing</td>\n",
       "      <td>a_0</td>\n",
       "      <td>Activity unit</td>\n",
       "      <td>46134</td>\n",
       "      <td>COUNT</td>\n",
       "      <td>11</td>\n",
       "    </tr>\n",
       "    <tr>\n",
       "      <th>1</th>\n",
       "      <td>2011</td>\n",
       "      <td>A</td>\n",
       "      <td>Agriculture, Forestry and Fishing</td>\n",
       "      <td>a_0</td>\n",
       "      <td>Rolling mean employees</td>\n",
       "      <td>0</td>\n",
       "      <td>COUNT</td>\n",
       "      <td>11</td>\n",
       "    </tr>\n",
       "    <tr>\n",
       "      <th>2</th>\n",
       "      <td>2011</td>\n",
       "      <td>A</td>\n",
       "      <td>Agriculture, Forestry and Fishing</td>\n",
       "      <td>a_0</td>\n",
       "      <td>Salaries and wages paid</td>\n",
       "      <td>279</td>\n",
       "      <td>DOLLARS(millions)</td>\n",
       "      <td>11</td>\n",
       "    </tr>\n",
       "    <tr>\n",
       "      <th>3</th>\n",
       "      <td>2011</td>\n",
       "      <td>A</td>\n",
       "      <td>Agriculture, Forestry and Fishing</td>\n",
       "      <td>a_0</td>\n",
       "      <td>Sales, government funding, grants and subsidies</td>\n",
       "      <td>8187</td>\n",
       "      <td>DOLLARS(millions)</td>\n",
       "      <td>11</td>\n",
       "    </tr>\n",
       "    <tr>\n",
       "      <th>4</th>\n",
       "      <td>2011</td>\n",
       "      <td>A</td>\n",
       "      <td>Agriculture, Forestry and Fishing</td>\n",
       "      <td>a_0</td>\n",
       "      <td>Total income</td>\n",
       "      <td>8866</td>\n",
       "      <td>DOLLARS(millions)</td>\n",
       "      <td>11</td>\n",
       "    </tr>\n",
       "  </tbody>\n",
       "</table>\n",
       "</div>"
      ],
      "text/plain": [
       "   year industry_code_ANZSIC  ...               unit year_norm\n",
       "0  2011                    A  ...              COUNT        11\n",
       "1  2011                    A  ...              COUNT        11\n",
       "2  2011                    A  ...  DOLLARS(millions)        11\n",
       "3  2011                    A  ...  DOLLARS(millions)        11\n",
       "4  2011                    A  ...  DOLLARS(millions)        11\n",
       "\n",
       "[5 rows x 8 columns]"
      ]
     },
     "execution_count": 92,
     "metadata": {
      "tags": []
     },
     "output_type": "execute_result"
    }
   ],
   "source": [
    "dataset.head()"
   ]
  },
  {
   "cell_type": "code",
   "execution_count": 93,
   "metadata": {
    "colab": {
     "base_uri": "https://localhost:8080/",
     "height": 297
    },
    "colab_type": "code",
    "executionInfo": {
     "elapsed": 981,
     "status": "ok",
     "timestamp": 1600510147418,
     "user": {
      "displayName": "Constantine Korikov",
      "photoUrl": "https://lh3.googleusercontent.com/a-/AOh14Ggfg-lsEaQlvBCImLsCsw-2Ptq9j0mESnmuQSbcpg=s64",
      "userId": "05258927714933707319"
     },
     "user_tz": -180
    },
    "id": "sclhtYbL1iN0",
    "outputId": "4a80ca93-fff3-41c4-c63c-b7898c0e41f4"
   },
   "outputs": [
    {
     "data": {
      "text/html": [
       "<div>\n",
       "<style scoped>\n",
       "    .dataframe tbody tr th:only-of-type {\n",
       "        vertical-align: middle;\n",
       "    }\n",
       "\n",
       "    .dataframe tbody tr th {\n",
       "        vertical-align: top;\n",
       "    }\n",
       "\n",
       "    .dataframe thead th {\n",
       "        text-align: right;\n",
       "    }\n",
       "</style>\n",
       "<table border=\"1\" class=\"dataframe\">\n",
       "  <thead>\n",
       "    <tr style=\"text-align: right;\">\n",
       "      <th></th>\n",
       "      <th>year</th>\n",
       "      <th>year_norm</th>\n",
       "    </tr>\n",
       "  </thead>\n",
       "  <tbody>\n",
       "    <tr>\n",
       "      <th>count</th>\n",
       "      <td>13932.000000</td>\n",
       "      <td>13932.000000</td>\n",
       "    </tr>\n",
       "    <tr>\n",
       "      <th>mean</th>\n",
       "      <td>2015.000000</td>\n",
       "      <td>15.000000</td>\n",
       "    </tr>\n",
       "    <tr>\n",
       "      <th>std</th>\n",
       "      <td>2.582082</td>\n",
       "      <td>2.582082</td>\n",
       "    </tr>\n",
       "    <tr>\n",
       "      <th>min</th>\n",
       "      <td>2011.000000</td>\n",
       "      <td>11.000000</td>\n",
       "    </tr>\n",
       "    <tr>\n",
       "      <th>25%</th>\n",
       "      <td>2013.000000</td>\n",
       "      <td>13.000000</td>\n",
       "    </tr>\n",
       "    <tr>\n",
       "      <th>50%</th>\n",
       "      <td>2015.000000</td>\n",
       "      <td>15.000000</td>\n",
       "    </tr>\n",
       "    <tr>\n",
       "      <th>75%</th>\n",
       "      <td>2017.000000</td>\n",
       "      <td>17.000000</td>\n",
       "    </tr>\n",
       "    <tr>\n",
       "      <th>max</th>\n",
       "      <td>2019.000000</td>\n",
       "      <td>19.000000</td>\n",
       "    </tr>\n",
       "  </tbody>\n",
       "</table>\n",
       "</div>"
      ],
      "text/plain": [
       "               year     year_norm\n",
       "count  13932.000000  13932.000000\n",
       "mean    2015.000000     15.000000\n",
       "std        2.582082      2.582082\n",
       "min     2011.000000     11.000000\n",
       "25%     2013.000000     13.000000\n",
       "50%     2015.000000     15.000000\n",
       "75%     2017.000000     17.000000\n",
       "max     2019.000000     19.000000"
      ]
     },
     "execution_count": 93,
     "metadata": {
      "tags": []
     },
     "output_type": "execute_result"
    }
   ],
   "source": [
    "dataset.describe()"
   ]
  },
  {
   "cell_type": "code",
   "execution_count": 94,
   "metadata": {
    "colab": {
     "base_uri": "https://localhost:8080/",
     "height": 51
    },
    "colab_type": "code",
    "executionInfo": {
     "elapsed": 1796,
     "status": "ok",
     "timestamp": 1600510214242,
     "user": {
      "displayName": "Constantine Korikov",
      "photoUrl": "https://lh3.googleusercontent.com/a-/AOh14Ggfg-lsEaQlvBCImLsCsw-2Ptq9j0mESnmuQSbcpg=s64",
      "userId": "05258927714933707319"
     },
     "user_tz": -180
    },
    "id": "G339hukB1rai",
    "outputId": "3c31682f-6698-4151-ed44-0fc95da7a033"
   },
   "outputs": [
    {
     "name": "stderr",
     "output_type": "stream",
     "text": [
      "/usr/local/lib/python3.6/dist-packages/statsmodels/tools/_testing.py:19: FutureWarning: pandas.util.testing is deprecated. Use the functions in the public API at pandas.testing instead.\n",
      "  import pandas.util.testing as tm\n"
     ]
    }
   ],
   "source": [
    "import seaborn as sns"
   ]
  },
  {
   "cell_type": "code",
   "execution_count": 97,
   "metadata": {
    "colab": {
     "base_uri": "https://localhost:8080/",
     "height": 282
    },
    "colab_type": "code",
    "executionInfo": {
     "elapsed": 1235,
     "status": "ok",
     "timestamp": 1600510356703,
     "user": {
      "displayName": "Constantine Korikov",
      "photoUrl": "https://lh3.googleusercontent.com/a-/AOh14Ggfg-lsEaQlvBCImLsCsw-2Ptq9j0mESnmuQSbcpg=s64",
      "userId": "05258927714933707319"
     },
     "user_tz": -180
    },
    "id": "JJh_F9jO17j9",
    "outputId": "52e8ca72-0297-4306-940f-0bb24e56d85b"
   },
   "outputs": [
    {
     "data": {
      "text/plain": [
       "<matplotlib.axes._subplots.AxesSubplot at 0x7f0afa77d518>"
      ]
     },
     "execution_count": 97,
     "metadata": {
      "tags": []
     },
     "output_type": "execute_result"
    },
    {
     "data": {
      "image/png": "[encoded data removed]",
      "text/plain": [
       "<Figure size 432x288 with 1 Axes>"
      ]
     },
     "metadata": {
      "needs_background": "light",
      "tags": []
     },
     "output_type": "display_data"
    }
   ],
   "source": [
    "sns.distplot(np.random.randn(1000))"
   ]
  },
  {
   "cell_type": "code",
   "execution_count": 99,
   "metadata": {
    "colab": {
     "base_uri": "https://localhost:8080/",
     "height": 320
    },
    "colab_type": "code",
    "executionInfo": {
     "elapsed": 1370,
     "status": "ok",
     "timestamp": 1600510501169,
     "user": {
      "displayName": "Constantine Korikov",
      "photoUrl": "https://lh3.googleusercontent.com/a-/AOh14Ggfg-lsEaQlvBCImLsCsw-2Ptq9j0mESnmuQSbcpg=s64",
      "userId": "05258927714933707319"
     },
     "user_tz": -180
    },
    "id": "YqPfdhjj2njA",
    "outputId": "9a536ab2-8b4c-4977-9b4e-a95820f144b0"
   },
   "outputs": [
    {
     "name": "stdout",
     "output_type": "stream",
     "text": [
      "Coefficients: \n",
      " [938.23786125]\n",
      "Mean squared error: 2548.07\n",
      "Coefficient of determination: 0.47\n"
     ]
    },
    {
     "data": {
      "image/png": "[encoded data removed]",
      "text/plain": [
       "<Figure size 432x288 with 1 Axes>"
      ]
     },
     "metadata": {
      "tags": []
     },
     "output_type": "display_data"
    }
   ],
   "source": [
    "import matplotlib.pyplot as plt\n",
    "import numpy as np\n",
    "from sklearn import datasets, linear_model\n",
    "from sklearn.metrics import mean_squared_error, r2_score\n",
    "\n",
    "# Load the diabetes dataset\n",
    "diabetes_X, diabetes_y = datasets.load_diabetes(return_X_y=True)\n",
    "\n",
    "# Use only one feature\n",
    "diabetes_X = diabetes_X[:, np.newaxis, 2]\n",
    "\n",
    "# Split the data into training/testing sets\n",
    "diabetes_X_train = diabetes_X[:-20]\n",
    "diabetes_X_test = diabetes_X[-20:]\n",
    "\n",
    "# Split the targets into training/testing sets\n",
    "diabetes_y_train = diabetes_y[:-20]\n",
    "diabetes_y_test = diabetes_y[-20:]\n",
    "\n",
    "# Create linear regression object\n",
    "regr = linear_model.LinearRegression()\n",
    "\n",
    "# Train the model using the training sets\n",
    "regr.fit(diabetes_X_train, diabetes_y_train)\n",
    "\n",
    "# Make predictions using the testing set\n",
    "diabetes_y_pred = regr.predict(diabetes_X_test)\n",
    "\n",
    "# The coefficients\n",
    "print('Coefficients: \\n', regr.coef_)\n",
    "# The mean squared error\n",
    "print('Mean squared error: %.2f'\n",
    "      % mean_squared_error(diabetes_y_test, diabetes_y_pred))\n",
    "# The coefficient of determination: 1 is perfect prediction\n",
    "print('Coefficient of determination: %.2f'\n",
    "      % r2_score(diabetes_y_test, diabetes_y_pred))\n",
    "\n",
    "# Plot outputs\n",
    "plt.scatter(diabetes_X_test, diabetes_y_test,  color='black')\n",
    "plt.plot(diabetes_X_test, diabetes_y_pred, color='blue', linewidth=3)\n",
    "\n",
    "plt.xticks(())\n",
    "plt.yticks(())\n",
    "\n",
    "plt.show()"
   ]
  },
  {
   "cell_type": "code",
   "execution_count": 101,
   "metadata": {
    "colab": {
     "base_uri": "https://localhost:8080/",
     "height": 136
    },
    "colab_type": "code",
    "executionInfo": {
     "elapsed": 1201,
     "status": "ok",
     "timestamp": 1600511173331,
     "user": {
      "displayName": "Constantine Korikov",
      "photoUrl": "https://lh3.googleusercontent.com/a-/AOh14Ggfg-lsEaQlvBCImLsCsw-2Ptq9j0mESnmuQSbcpg=s64",
      "userId": "05258927714933707319"
     },
     "user_tz": -180
    },
    "id": "F2BGdBqo3Btw",
    "outputId": "7d61d43f-d777-4678-ec86-c5bc4f9147df"
   },
   "outputs": [
    {
     "name": "stdout",
     "output_type": "stream",
     "text": [
      "Net(\n",
      "  (conv1): Conv2d(1, 6, kernel_size=(3, 3), stride=(1, 1))\n",
      "  (conv2): Conv2d(6, 16, kernel_size=(3, 3), stride=(1, 1))\n",
      "  (fc1): Linear(in_features=576, out_features=120, bias=True)\n",
      "  (fc2): Linear(in_features=120, out_features=84, bias=True)\n",
      "  (fc3): Linear(in_features=84, out_features=10, bias=True)\n",
      ")\n"
     ]
    }
   ],
   "source": [
    "# https://pytorch.org/tutorials/beginner/blitz/neural_networks_tutorial.html#sphx-glr-beginner-blitz-neural-networks-tutorial-py\n",
    "\n",
    "import torch\n",
    "import torch.nn as nn\n",
    "import torch.nn.functional as F\n",
    "\n",
    "\n",
    "class Net(nn.Module):\n",
    "    def __init__(self):\n",
    "        super(Net, self).__init__()\n",
    "        # 1 input image channel, 6 output channels, 3x3 square convolution\n",
    "        # kernel\n",
    "        self.conv1 = nn.Conv2d(1, 6, 3)\n",
    "        self.conv2 = nn.Conv2d(6, 16, 3)\n",
    "        # an affine operation: y = Wx + b\n",
    "        self.fc1 = nn.Linear(16 * 6 * 6, 120)  # 6*6 from image dimension\n",
    "        self.fc2 = nn.Linear(120, 84)\n",
    "        self.fc3 = nn.Linear(84, 10)\n",
    "\n",
    "    def forward(self, x):\n",
    "        # Max pooling over a (2, 2) window\n",
    "        x = F.max_pool2d(F.relu(self.conv1(x)), (2, 2))\n",
    "        # If the size is a square you can only specify a single number\n",
    "        x = F.max_pool2d(F.relu(self.conv2(x)), 2)\n",
    "        x = x.view(-1, self.num_flat_features(x))\n",
    "        x = F.relu(self.fc1(x))\n",
    "        x = F.relu(self.fc2(x))\n",
    "        x = self.fc3(x)\n",
    "        return x\n",
    "\n",
    "    def num_flat_features(self, x):\n",
    "        size = x.size()[1:]  # all dimensions except the batch dimension\n",
    "        num_features = 1\n",
    "        for s in size:\n",
    "            num_features *= s\n",
    "        return num_features\n",
    "\n",
    "\n",
    "net = Net()\n",
    "print(net)"
   ]
  },
  {
   "cell_type": "code",
   "execution_count": null,
   "metadata": {
    "colab": {},
    "colab_type": "code",
    "id": "qs9JOaS85QSG"
   },
   "outputs": [],
   "source": []
  }
 ],
 "metadata": {
  "colab": {
   "authorship_tag": "ABX9TyNteQcVQVKarFQw+N616lqv",
   "collapsed_sections": [],
   "name": "02_packages.ipynb",
   "provenance": []
  },
  "kernelspec": {
   "display_name": "Python 3",
   "language": "python",
   "name": "python3"
  },
  "language_info": {
   "codemirror_mode": {
    "name": "ipython",
    "version": 3
   },
   "file_extension": ".py",
   "mimetype": "text/x-python",
   "name": "python",
   "nbconvert_exporter": "python",
   "pygments_lexer": "ipython3",
   "version": "3.8.0"
  }
 },
 "nbformat": 4,
 "nbformat_minor": 4
}
