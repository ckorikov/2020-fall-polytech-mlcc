{
 "cells": [
  {
   "cell_type": "markdown",
   "metadata": {
    "id": "qtgSE8mbSLmo"
   },
   "source": [
    "# Deep Learning"
   ]
  },
  {
   "cell_type": "markdown",
   "metadata": {},
   "source": [
    "## Introduction"
   ]
  },
  {
   "cell_type": "markdown",
   "metadata": {},
   "source": [
    "### As a part of ML"
   ]
  },
  {
   "cell_type": "markdown",
   "metadata": {},
   "source": [
    "<div style=\"width:image width px; \n",
    "            font-size:80%; \n",
    "            text-align:center; \n",
    "            float: left; padding-left-right-top-bottom:0.5em;  \n",
    "            border-style: solid; border-color: rgba(211, 211, 211, 0.000);\n",
    "            background-color: rgba(0,0, 0, 0.000;\">\n",
    "    <img src=\"./pics/DS_VD_2.jpg\" \n",
    "         alt=\"alternate text\" \n",
    "         width=400\n",
    "         style=\"padding-bottom:0.5em;\"/>\n",
    "    <div style=\"padding: 3px; \n",
    "                width: 400px; \n",
    "                word-wrap: break-word; \n",
    "                text-align:justify;\">\n",
    "        Illustration of AI/ML/DL Venn diagram by Gregory Piatetsky-Shapiro. <br> \n",
    "        <a href=\"https://www.kdnuggets.com/2016/03/data-science-puzzle-explained.html\" \n",
    "           style=\"float: left;\"> \n",
    "           Source \n",
    "        </a>\n",
    "    </div>\n",
    "</div>"
   ]
  },
  {
   "cell_type": "markdown",
   "metadata": {},
   "source": [
    "### Automatic feature extraction"
   ]
  },
  {
   "cell_type": "markdown",
   "metadata": {},
   "source": [
    "<div style=\"width:image width px; \n",
    "            font-size:80%; \n",
    "            text-align:center; \n",
    "            float: left; padding-left-right-top-bottom:0.5em;  \n",
    "            border-style: solid; border-color: rgba(211, 211, 211, 0.000);\n",
    "            background-color: rgba(0,0, 0, 0.000;\">\n",
    "    <img src=\"./pics/ml_vs_dl.png\" \n",
    "         alt=\"alternate text\" \n",
    "         width=800\n",
    "         style=\"padding-bottom:0.5em;\"/>\n",
    "    <div style=\"padding: 3px; \n",
    "                width: 400px; \n",
    "                word-wrap: break-word; \n",
    "                text-align:justify;\">\n",
    "        Illustration of Difference between Machine Learning and Deep Learning by Akshat Jain. <br> \n",
    "        <a href=\"https://towardsdatascience.com/a-gentle-introduction-to-deep-learning-part-1-introduction-43eb199b0b9\" \n",
    "           style=\"float: left;\"> \n",
    "           Source \n",
    "        </a>\n",
    "    </div>\n",
    "</div>"
   ]
  },
  {
   "cell_type": "markdown",
   "metadata": {
    "id": "3dA4T5BvSaMs"
   },
   "source": [
    "### As a black box"
   ]
  },
  {
   "cell_type": "markdown",
   "metadata": {},
   "source": [
    "<div style=\"width:image width px; \n",
    "            font-size:80%; \n",
    "            text-align:center; \n",
    "            float: left; padding-left-right-top-bottom:0.5em;  \n",
    "            border-style: solid; border-color: rgba(211, 211, 211, 0.000);\n",
    "            background-color: rgba(0,0, 0, 0.000;\">\n",
    "    <img src=\"./pics/black_box.png\" \n",
    "         alt=\"alternate text\" \n",
    "         width=800\n",
    "         style=\"padding-bottom:0.5em;\"/>\n",
    "    <div style=\"padding: 3px; \n",
    "                width: 400px; \n",
    "                word-wrap: break-word; \n",
    "                text-align:justify;\">\n",
    "        Illustration of Deep Learning general scheme. <br> \n",
    "    </div>\n",
    "</div>"
   ]
  },
  {
   "cell_type": "markdown",
   "metadata": {
    "id": "UYGvoD0XTeAY"
   },
   "source": [
    "## Basic blocks of deep learning model"
   ]
  },
  {
   "cell_type": "markdown",
   "metadata": {
    "id": "Q1BKBBGrT8rt"
   },
   "source": [
    "### Layers"
   ]
  },
  {
   "cell_type": "markdown",
   "metadata": {},
   "source": [
    "#### Perceptron\n",
    "\n",
    "Linear layer + non-linear activation function"
   ]
  },
  {
   "cell_type": "markdown",
   "metadata": {},
   "source": [
    "<div style=\"width:image width px; \n",
    "            font-size:80%; \n",
    "            text-align:center; \n",
    "            float: left; padding-left-right-top-bottom:0.5em;  \n",
    "            border-style: solid; border-color: rgba(211, 211, 211, 0.000);\n",
    "            background-color: rgba(0,0, 0, 0.000;\">\n",
    "    <img src=\"./pics/perceptron.png\" \n",
    "         alt=\"alternate text\" \n",
    "         width=800\n",
    "         style=\"padding-bottom:0.5em;\"/>\n",
    "    <div style=\"padding: 3px; \n",
    "                width: 400px; \n",
    "                word-wrap: break-word; \n",
    "                text-align:justify;\">\n",
    "        Illustration of Perceptron by Gregory Piatetsky-Shapiro. <br> \n",
    "        <a href=\"https://www.datasciencecentral.com/profiles/blogs/introduction-to-deep-learning\" \n",
    "           style=\"float: left;\"> \n",
    "           Source \n",
    "        </a>\n",
    "    </div>\n",
    "</div>"
   ]
  },
  {
   "cell_type": "markdown",
   "metadata": {
    "id": "ULMxK6yLUp0a"
   },
   "source": [
    "### Activation functions"
   ]
  },
  {
   "cell_type": "markdown",
   "metadata": {},
   "source": [
    "<div style=\"width:image width px; \n",
    "            font-size:80%; \n",
    "            text-align:center; \n",
    "            float: left; padding-left-right-top-bottom:0.5em;  \n",
    "            border-style: solid; border-color: rgba(211, 211, 211, 0.000);\n",
    "            background-color: rgba(0,0, 0, 0.000;\">\n",
    "    <img src=\"./pics/activation_functions.png\" \n",
    "         alt=\"alternate text\" \n",
    "         width=800\n",
    "         style=\"padding-bottom:0.5em;\"/>\n",
    "    <div style=\"padding: 3px; \n",
    "                width: 400px; \n",
    "                word-wrap: break-word; \n",
    "                text-align:justify;\">\n",
    "        Illustration of activation functions (wikipedia). <br> \n",
    "        <a href=\"https://en.wikipedia.org/wiki/Activation_function\" \n",
    "           style=\"float: left;\"> \n",
    "           Source \n",
    "        </a>\n",
    "    </div>\n",
    "</div>"
   ]
  },
  {
   "cell_type": "markdown",
   "metadata": {
    "id": "XUuUNNsRUek5"
   },
   "source": [
    "### Loss functions"
   ]
  },
  {
   "cell_type": "markdown",
   "metadata": {},
   "source": [
    "<div style=\"width:image width px; \n",
    "            font-size:80%; \n",
    "            text-align:center; \n",
    "            float: left; padding-left-right-top-bottom:0.5em;  \n",
    "            border-style: solid; border-color: rgba(211, 211, 211, 0.000);\n",
    "            background-color: rgba(0,0, 0, 0.000;\">\n",
    "    <img src=\"./pics/loss_types.png\" \n",
    "         alt=\"alternate text\" \n",
    "         width=400\n",
    "         style=\"padding-bottom:0.5em;\"/>\n",
    "    <div style=\"padding: 3px; \n",
    "                width: 400px; \n",
    "                word-wrap: break-word; \n",
    "                text-align:justify;\">\n",
    "        Illustration of loss function types by xpertup. <br> \n",
    "        <a href=\"https://www.xpertup.com/blog/deep-learning/types-of-loss-functions-part-1/\" \n",
    "           style=\"float: left;\"> \n",
    "           Source \n",
    "        </a>\n",
    "    </div>\n",
    "</div>"
   ]
  },
  {
   "cell_type": "markdown",
   "metadata": {},
   "source": [
    "#### MSE"
   ]
  },
  {
   "cell_type": "markdown",
   "metadata": {},
   "source": [
    "$$\n",
    "MSE(y, \\hat y) = \\frac{1}{n} \\sum_{i=1}^{n} (\\hat y_i - y_i)^2\n",
    "$$"
   ]
  },
  {
   "cell_type": "markdown",
   "metadata": {},
   "source": [
    "#### Regularizations"
   ]
  },
  {
   "cell_type": "markdown",
   "metadata": {},
   "source": [
    "<div style=\"width:image width px; \n",
    "            font-size:80%; \n",
    "            text-align:center; \n",
    "            float: left; padding-left-right-top-bottom:0.5em;  \n",
    "            border-style: solid; border-color: rgba(211, 211, 211, 0.000);\n",
    "            background-color: rgba(0,0, 0, 0.000;\">\n",
    "    <img src=\"./pics/regularizations.png\" \n",
    "         alt=\"alternate text\" \n",
    "         width=400\n",
    "         style=\"padding-bottom:0.5em;\"/>\n",
    "    <div style=\"padding: 3px; \n",
    "                width: 400px; \n",
    "                word-wrap: break-word; \n",
    "                text-align:justify;\">\n",
    "        Illustration of regularization terms by Dhaval Taunk. <br> \n",
    "        <a href=\"https://medium.com/analytics-vidhya/l1-vs-l2-regularization-which-is-better-d01068e6658c\" \n",
    "           style=\"float: left;\"> \n",
    "           Source \n",
    "        </a>\n",
    "    </div>\n",
    "</div>"
   ]
  },
  {
   "cell_type": "markdown",
   "metadata": {
    "id": "NjftIyEWUY4f"
   },
   "source": [
    "### Optimizers"
   ]
  },
  {
   "cell_type": "markdown",
   "metadata": {},
   "source": [
    "<div style=\"width:image width px; \n",
    "            font-size:80%; \n",
    "            text-align:center; \n",
    "            float: left; padding-left-right-top-bottom:0.5em;  \n",
    "            border-style: solid; border-color: rgba(211, 211, 211, 0.000);\n",
    "            background-color: rgba(0,0, 0, 0.000;\">\n",
    "    <img src=\"./pics/sgd_surface.jpeg\" \n",
    "         alt=\"alternate text\" \n",
    "         width=800\n",
    "         style=\"padding-bottom:0.5em;\"/>\n",
    "    <div style=\"padding: 3px; \n",
    "                width: 400px; \n",
    "                word-wrap: break-word; \n",
    "                text-align:justify;\">\n",
    "        Illustration of error function surface. <br> \n",
    "        <a href=\"https://towardsdatascience.com/coding-deep-learning-for-beginners-linear-regression-gradient-descent-fcd5e0fc077d\" \n",
    "           style=\"float: left;\"> \n",
    "           Source \n",
    "        </a>\n",
    "    </div>\n",
    "</div>"
   ]
  },
  {
   "cell_type": "markdown",
   "metadata": {
    "id": "hSbcAs-wU77Y"
   },
   "source": [
    "#### Stochastic gradient descent (aka SGD)"
   ]
  },
  {
   "cell_type": "markdown",
   "metadata": {
    "id": "ODg5_u1qVWCI"
   },
   "source": [
    "##### Method"
   ]
  },
  {
   "cell_type": "markdown",
   "metadata": {},
   "source": [
    "<div style=\"width:image width px; \n",
    "            font-size:80%; \n",
    "            text-align:center; \n",
    "            float: left; padding-left-right-top-bottom:0.5em;  \n",
    "            border-style: solid; border-color: rgba(211, 211, 211, 0.000);\n",
    "            background-color: rgba(0,0, 0, 0.000;\">\n",
    "    <img src=\"./pics/sgd_steps.png\" \n",
    "         alt=\"alternate text\" \n",
    "         width=800\n",
    "         style=\"padding-bottom:0.5em;\"/>\n",
    "    <div style=\"padding: 3px; \n",
    "                width: 400px; \n",
    "                word-wrap: break-word; \n",
    "                text-align:justify;\">\n",
    "        Illustration of SGD steps. <br> \n",
    "        <a href=\"https://www.kdnuggets.com/2020/05/5-concepts-gradient-descent-cost-function.html\" \n",
    "           style=\"float: left;\"> \n",
    "           Source \n",
    "        </a>\n",
    "    </div>\n",
    "</div>"
   ]
  },
  {
   "cell_type": "markdown",
   "metadata": {
    "id": "FiF8gKEAVdZY"
   },
   "source": [
    "##### Backpropagation algorithm"
   ]
  },
  {
   "cell_type": "markdown",
   "metadata": {},
   "source": [
    "<div style=\"width:image width px; \n",
    "            font-size:80%; \n",
    "            text-align:center; \n",
    "            float: left; padding-left-right-top-bottom:0.5em;  \n",
    "            border-style: solid; border-color: rgba(211, 211, 211, 0.000);\n",
    "            background-color: rgba(0,0, 0, 0.000;\">\n",
    "    <img src=\"./pics/backprop.png\" \n",
    "         alt=\"alternate text\" \n",
    "         width=800\n",
    "         style=\"padding-bottom:0.5em;\"/>\n",
    "    <div style=\"padding: 3px; \n",
    "                width: 400px; \n",
    "                word-wrap: break-word; \n",
    "                text-align:justify;\">\n",
    "        Illustration of the forward and backward passes by Frederik Kratzert. <br> \n",
    "        <a href=\"https://kratzert.github.io/2016/02/12/understanding-the-gradient-flow-through-the-batch-normalization-layer.html\" \n",
    "           style=\"float: left;\"> \n",
    "           Source \n",
    "        </a>\n",
    "    </div>\n",
    "</div>"
   ]
  },
  {
   "cell_type": "markdown",
   "metadata": {
    "id": "hvJ6AN8GVFIX"
   },
   "source": [
    "#### Adaptive optimizations"
   ]
  },
  {
   "cell_type": "markdown",
   "metadata": {},
   "source": [
    "TBD"
   ]
  },
  {
   "cell_type": "markdown",
   "metadata": {
    "id": "QY4bF72wTldU"
   },
   "source": [
    "## Architectures (aka topologies)"
   ]
  },
  {
   "cell_type": "markdown",
   "metadata": {},
   "source": [
    "<div style=\"width:image width px; \n",
    "            font-size:80%; \n",
    "            text-align:center; \n",
    "            float: left; padding-left-right-top-bottom:0.5em;  \n",
    "            border-style: solid; border-color: rgba(211, 211, 211, 0.000);\n",
    "            background-color: rgba(0,0, 0, 0.000;\">\n",
    "    <img src=\"./pics/NeuralNetworkZo19High.png\" \n",
    "         alt=\"alternate text\" \n",
    "         width=800\n",
    "         style=\"padding-bottom:0.5em;\"/>\n",
    "    <div style=\"padding: 3px; \n",
    "                width: 400px; \n",
    "                word-wrap: break-word; \n",
    "                text-align:justify;\">\n",
    "        Illustration of The Neural Network Zoo by THE ASIMOV INSTITUTE. <br> \n",
    "        <a href=\"https://www.asimovinstitute.org/neural-network-zoo/\" \n",
    "           style=\"float: left;\"> \n",
    "           Source \n",
    "        </a>\n",
    "    </div>\n",
    "</div>"
   ]
  },
  {
   "cell_type": "markdown",
   "metadata": {},
   "source": [
    "### Feed-forward Neural Networks (aka FFNN)"
   ]
  },
  {
   "cell_type": "markdown",
   "metadata": {},
   "source": [
    "### Convolutional Neural Networks (aka CNN)"
   ]
  },
  {
   "cell_type": "markdown",
   "metadata": {},
   "source": [
    "### Recurrent Neural Networks (aka RNN)"
   ]
  },
  {
   "cell_type": "markdown",
   "metadata": {
    "id": "O7omYYd6TtOI"
   },
   "source": [
    "## References"
   ]
  }
 ],
 "metadata": {
  "colab": {
   "collapsed_sections": [],
   "name": "05_dl_basics_lecture",
   "provenance": []
  },
  "kernelspec": {
   "display_name": "Python 3",
   "language": "python",
   "name": "python3"
  },
  "language_info": {
   "codemirror_mode": {
    "name": "ipython",
    "version": 3
   },
   "file_extension": ".py",
   "mimetype": "text/x-python",
   "name": "python",
   "nbconvert_exporter": "python",
   "pygments_lexer": "ipython3",
   "version": "3.8.0"
  }
 },
 "nbformat": 4,
 "nbformat_minor": 4
}
